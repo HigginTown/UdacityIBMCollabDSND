{
 "cells": [
  {
   "cell_type": "markdown",
   "metadata": {},
   "source": [
    "# Recommendation System with `PySpark` and `Watson Machine Learning`\n",
    "\n",
    "\n",
    "We're going to build a Collaborative Filtering based Recommendation System with Apache Spark. Then we'll consume this model in a [`python Flask` application](https://console.bluemix.net/catalog/starters/python-flask) on IBM Cloud. \n",
    "_________\n",
    "\n",
    "We'll use the the Spark implementation of the [Alternating Least Squares](https://spark.apache.org/docs/2.2.0/ml-collaborative-filtering.html) algorithm and then **save and deploy our model** with [Watson Machine Learning](https://dataplatform.ibm.com/docs/content/analyze-data/ml-overview.html?audience=wdp&context=analytics) using the [WML Python Client](https://dataplatform.ibm.com/docs/content/analyze-data/pm_service_client_library.html#client-libraries). \n",
    "\n",
    "_________\n",
    "\n",
    "## [I. The Data](#data)\n",
    "Inspect the data \n",
    "## [II. The Model](#model)\n",
    "Build and compare models\n",
    "## [III. Watson Machine Learning](#wml)\n",
    "Save and deploy the model for Watson Machine Learning\n",
    "________\n",
    "\n",
    "\n",
    "### I. The Data"
   ]
  },
  {
   "cell_type": "code",
   "execution_count": 4,
   "metadata": {
    "collapsed": true
   },
   "outputs": [],
   "source": [
    "# @hidden_cell\n",
    "# The project token is an authorization token that is used to access project resources like data sources, connections, and used by platform APIs.\n",
    "from project_lib import Project\n",
    "project = Project(sc, '***', '***')\n",
    "pc = project.project_context\n"
   ]
  },
  {
   "cell_type": "code",
   "execution_count": 5,
   "metadata": {},
   "outputs": [
    {
     "name": "stdout",
     "output_type": "stream",
     "text": [
      "+---+----------+--------------------+--------------------+\n",
      "|_c0|article_id|               title|               email|\n",
      "+---+----------+--------------------+--------------------+\n",
      "|  0|    1430.0|using pixiedust f...|ef5f11f77ba020cd3...|\n",
      "|  1|    1314.0|healthcare python...|083cbdfa93c8444be...|\n",
      "|  2|    1429.0|use deep learning...|b96a4f2e92d857203...|\n",
      "|  3|    1338.0|ml optimization u...|06485706b34a5c9bf...|\n",
      "|  4|    1276.0|deploy your pytho...|f01220c46fc92c6e6...|\n",
      "+---+----------+--------------------+--------------------+\n",
      "only showing top 5 rows\n",
      "\n"
     ]
    }
   ],
   "source": [
    "# get the file url\n",
    "url = project.get_file_url(\"user-item-interactions.csv\")\n",
    "\n",
    "# spark dataframe\n",
    "spark = SparkSession.builder.getOrCreate()\n",
    "df = spark.read.format('csv')\\\n",
    "  .option('header', 'true')\\\n",
    "  .load(url)\n",
    "df.show(5)"
   ]
  },
  {
   "cell_type": "code",
   "execution_count": 6,
   "metadata": {},
   "outputs": [
    {
     "name": "stdout",
     "output_type": "stream",
     "text": [
      "root\n",
      " |-- article_id: string (nullable = true)\n",
      " |-- title: string (nullable = true)\n",
      " |-- email: string (nullable = true)\n",
      "\n"
     ]
    }
   ],
   "source": [
    "# check the schema\n",
    "df = df[['article_id', 'title', 'email']]\n",
    "df = df.na.drop()\n",
    "df.printSchema()"
   ]
  },
  {
   "cell_type": "code",
   "execution_count": 7,
   "metadata": {},
   "outputs": [
    {
     "name": "stdout",
     "output_type": "stream",
     "text": [
      "+----------+-----+-----+\n",
      "|article_id|title|email|\n",
      "+----------+-----+-----+\n",
      "|         0|    0|    0|\n",
      "+----------+-----+-----+\n",
      "\n"
     ]
    }
   ],
   "source": [
    "# check for NAN values\n",
    "from pyspark.sql.functions import isnan, when, count, col\n",
    "\n",
    "# check for nulls\n",
    "df.select([count(when(isnan(c), c)).alias(c) for c in df.columns]).show()"
   ]
  },
  {
   "cell_type": "code",
   "execution_count": 8,
   "metadata": {
    "scrolled": true
   },
   "outputs": [
    {
     "name": "stdout",
     "output_type": "stream",
     "text": [
      "+-------------+----------+-----+\n",
      "|indexed_email|article_id|count|\n",
      "+-------------+----------+-----+\n",
      "|       1165.0|     788.0|    1|\n",
      "|        383.0|     680.0|    1|\n",
      "|       5027.0|     427.0|    1|\n",
      "|        352.0|     369.0|    1|\n",
      "|         82.0|     314.0|    4|\n",
      "|         75.0|    1151.0|    1|\n",
      "|         15.0|    1162.0|    2|\n",
      "|       1575.0|     645.0|    1|\n",
      "|        849.0|     173.0|    1|\n",
      "|        251.0|     939.0|    1|\n",
      "+-------------+----------+-----+\n",
      "only showing top 10 rows\n",
      "\n"
     ]
    }
   ],
   "source": [
    "# pivot the data to get the counts\n",
    "from pyspark.ml.feature import StringIndexer\n",
    "indexer = StringIndexer(inputCol='email', outputCol = 'indexed_email', handleInvalid='skip').fit(df)\n",
    "\n",
    "new_df = indexer.transform(df)\n",
    "\n",
    "piv = new_df.groupby(\"indexed_email\", \"article_id\").count().cache()\n",
    "piv.show(10)"
   ]
  },
  {
   "cell_type": "code",
   "execution_count": 7,
   "metadata": {},
   "outputs": [
    {
     "name": "stdout",
     "output_type": "stream",
     "text": [
      "+----------+--------------------+--------------------+-------------+\n",
      "|article_id|               title|               email|indexed_email|\n",
      "+----------+--------------------+--------------------+-------------+\n",
      "|    1430.0|using pixiedust f...|ef5f11f77ba020cd3...|        154.0|\n",
      "|    1314.0|healthcare python...|083cbdfa93c8444be...|       1674.0|\n",
      "|    1429.0|use deep learning...|b96a4f2e92d857203...|         44.0|\n",
      "+----------+--------------------+--------------------+-------------+\n",
      "only showing top 3 rows\n",
      "\n"
     ]
    }
   ],
   "source": [
    "new_df.show(3)"
   ]
  },
  {
   "cell_type": "code",
   "execution_count": 8,
   "metadata": {
    "collapsed": true
   },
   "outputs": [],
   "source": [
    "# take a look at the distribution of the number of article interactions per user\n",
    "\n",
    "import matplotlib.pyplot as plt \n",
    "%matplotlib inline\n",
    "import seaborn as sns\n",
    "import numpy as np\n",
    "\n",
    "vals = np.array(piv.select(\"count\").collect())\n",
    "v = [a[0] for a in vals]\n"
   ]
  },
  {
   "cell_type": "code",
   "execution_count": 9,
   "metadata": {},
   "outputs": [
    {
     "name": "stdout",
     "output_type": "stream",
     "text": [
      "count    33011.000000\n",
      "mean         1.367999\n",
      "std          1.180083\n",
      "min          1.000000\n",
      "25%          1.000000\n",
      "50%          1.000000\n",
      "75%          1.000000\n",
      "max         42.000000\n",
      "dtype: float64\n"
     ]
    },
    {
     "data": {
      "text/plain": [
       "<matplotlib.axes._subplots.AxesSubplot at 0x7f571f5baef0>"
      ]
     },
     "execution_count": 9,
     "metadata": {},
     "output_type": "execute_result"
    },
    {
     "data": {
      "image/png": "[encoded data removed]",
      "text/plain": [
       "<matplotlib.figure.Figure at 0x7f5732f25da0>"
      ]
     },
     "metadata": {},
     "output_type": "display_data"
    }
   ],
   "source": [
    "import pandas as pd\n",
    "print(pd.Series(v).describe())\n",
    "sns.distplot(v)"
   ]
  },
  {
   "cell_type": "markdown",
   "metadata": {},
   "source": [
    "### II. The Model"
   ]
  },
  {
   "cell_type": "code",
   "execution_count": 10,
   "metadata": {
    "collapsed": true
   },
   "outputs": [],
   "source": [
    "from pyspark.ml.feature import QuantileDiscretizer\n",
    "from pyspark.sql.types import DoubleType, IntegerType\n",
    "piv = piv.withColumn('count', piv['count'].cast(DoubleType()))\n",
    "piv = piv.withColumn('article_id', piv['article_id'].cast(IntegerType()))\n",
    "discretizer = QuantileDiscretizer(numBuckets=5, inputCol=\"count\", outputCol=\"result\")"
   ]
  },
  {
   "cell_type": "code",
   "execution_count": 11,
   "metadata": {
    "collapsed": true
   },
   "outputs": [],
   "source": [
    "# train test split\n",
    "\n",
    "# drop the nulls in the count section and split the data \n",
    "piv = piv.na.drop()\n",
    "trainingDataRDD, testingDataRDD = piv.rdd.randomSplit([7.0, 3.0], seed=0)\n",
    "trainingData = spark.createDataFrame(trainingDataRDD)\n",
    "testingData = spark.createDataFrame(testingDataRDD)"
   ]
  },
  {
   "cell_type": "code",
   "execution_count": 12,
   "metadata": {},
   "outputs": [
    {
     "name": "stdout",
     "output_type": "stream",
     "text": [
      "+-------------+----------+-----+-----------+\n",
      "|indexed_email|article_id|count| prediction|\n",
      "+-------------+----------+-----+-----------+\n",
      "|         95.0|       463|  2.0|0.028795276|\n",
      "|        613.0|       833|  1.0|  0.1333396|\n",
      "|        139.0|       833|  1.0|   0.171878|\n",
      "+-------------+----------+-----+-----------+\n",
      "only showing top 3 rows\n",
      "\n",
      "For rank 8, iterations 5, regularization 0.01 the RMSE is 1.7923962811078646\n",
      "+-------------+----------+-----+------------+\n",
      "|indexed_email|article_id|count|  prediction|\n",
      "+-------------+----------+-----+------------+\n",
      "|         95.0|       463|  2.0|  0.02346854|\n",
      "|       3607.0|       833|  1.0|0.0059292275|\n",
      "|          4.0|       833|  2.0|  0.29947022|\n",
      "+-------------+----------+-----+------------+\n",
      "only showing top 3 rows\n",
      "\n",
      "For rank 8, iterations 10, regularization 0.01 the RMSE is 1.785164459358515\n",
      "+-------------+----------+-----+-----------+\n",
      "|indexed_email|article_id|count| prediction|\n",
      "+-------------+----------+-----+-----------+\n",
      "|         95.0|       463|  2.0|0.025360292|\n",
      "|         16.0|       833|  1.0| 0.25136188|\n",
      "|        310.0|       833|  1.0|  0.0766165|\n",
      "+-------------+----------+-----+-----------+\n",
      "only showing top 3 rows\n",
      "\n",
      "For rank 8, iterations 18, regularization 0.01 the RMSE is 1.783506488679496\n",
      "+-------------+----------+-----+-----------+\n",
      "|indexed_email|article_id|count| prediction|\n",
      "+-------------+----------+-----+-----------+\n",
      "|         95.0|       463|  2.0|0.029072389|\n",
      "|        472.0|       833|  1.0|0.035490785|\n",
      "|        139.0|       833|  1.0| 0.16846442|\n",
      "+-------------+----------+-----+-----------+\n",
      "only showing top 3 rows\n",
      "\n",
      "For rank 8, iterations 5, regularization 0.1 the RMSE is 1.7924724738794713\n",
      "+-------------+----------+-----+-----------+\n",
      "|indexed_email|article_id|count| prediction|\n",
      "+-------------+----------+-----+-----------+\n",
      "|         95.0|       463|  2.0|0.029470475|\n",
      "|        613.0|       833|  1.0| 0.07124723|\n",
      "|       2171.0|       833|  1.0|0.009834003|\n",
      "+-------------+----------+-----+-----------+\n",
      "only showing top 3 rows\n",
      "\n",
      "For rank 8, iterations 10, regularization 0.1 the RMSE is 1.7851282725847428\n",
      "+-------------+----------+-----+-----------+\n",
      "|indexed_email|article_id|count| prediction|\n",
      "+-------------+----------+-----+-----------+\n",
      "|         95.0|       463|  2.0|0.028290864|\n",
      "|        472.0|       833|  1.0|0.025705926|\n",
      "|        613.0|       833|  1.0|0.032155298|\n",
      "+-------------+----------+-----+-----------+\n",
      "only showing top 3 rows\n",
      "\n",
      "For rank 8, iterations 18, regularization 0.1 the RMSE is 1.7844973869057796\n",
      "+-------------+----------+-----+-----------+\n",
      "|indexed_email|article_id|count| prediction|\n",
      "+-------------+----------+-----+-----------+\n",
      "|         95.0|       463|  2.0| 0.02014181|\n",
      "|        472.0|       833|  1.0|0.013447405|\n",
      "|        139.0|       833|  1.0| 0.16736177|\n",
      "+-------------+----------+-----+-----------+\n",
      "only showing top 3 rows\n",
      "\n",
      "For rank 10, iterations 5, regularization 0.01 the RMSE is 1.7936764434704082\n",
      "+-------------+----------+-----+-----------+\n",
      "|indexed_email|article_id|count| prediction|\n",
      "+-------------+----------+-----+-----------+\n",
      "|         95.0|       463|  2.0|0.021523098|\n",
      "|         16.0|       833|  1.0| 0.22472747|\n",
      "|        634.0|       833|  1.0|0.040180065|\n",
      "+-------------+----------+-----+-----------+\n",
      "only showing top 3 rows\n",
      "\n",
      "For rank 10, iterations 10, regularization 0.01 the RMSE is 1.7846754171806039\n",
      "+-------------+----------+-----+-----------+\n",
      "|indexed_email|article_id|count| prediction|\n",
      "+-------------+----------+-----+-----------+\n",
      "|         95.0|       463|  2.0|0.026113428|\n",
      "|        310.0|       833|  1.0| 0.14350413|\n",
      "|       2442.0|       833|  1.0|0.010288795|\n",
      "+-------------+----------+-----+-----------+\n",
      "only showing top 3 rows\n",
      "\n",
      "For rank 10, iterations 18, regularization 0.01 the RMSE is 1.7805407609304407\n",
      "+-------------+----------+-----+-----------+\n",
      "|indexed_email|article_id|count| prediction|\n",
      "+-------------+----------+-----+-----------+\n",
      "|         95.0|       463|  2.0|0.022163536|\n",
      "|        472.0|       833|  1.0|0.022716127|\n",
      "|       4090.0|       833|  1.0|        NaN|\n",
      "+-------------+----------+-----+-----------+\n",
      "only showing top 3 rows\n",
      "\n",
      "For rank 10, iterations 5, regularization 0.1 the RMSE is 1.7911737573758972\n",
      "+-------------+----------+-----+------------+\n",
      "|indexed_email|article_id|count|  prediction|\n",
      "+-------------+----------+-----+------------+\n",
      "|         95.0|       463|  2.0| 0.028433021|\n",
      "|        472.0|       833|  1.0|0.0090283565|\n",
      "|       3607.0|       833|  1.0|         0.0|\n",
      "+-------------+----------+-----+------------+\n",
      "only showing top 3 rows\n",
      "\n",
      "For rank 10, iterations 10, regularization 0.1 the RMSE is 1.782453499755231\n",
      "+-------------+----------+-----+-----------+\n",
      "|indexed_email|article_id|count| prediction|\n",
      "+-------------+----------+-----+-----------+\n",
      "|         95.0|       463|  2.0|0.038913433|\n",
      "|       3607.0|       833|  1.0|        0.0|\n",
      "|         16.0|       833|  1.0| 0.24982777|\n",
      "+-------------+----------+-----+-----------+\n",
      "only showing top 3 rows\n",
      "\n",
      "For rank 10, iterations 18, regularization 0.1 the RMSE is 1.7795298772762091\n",
      "+-------------+----------+-----+-----------+\n",
      "|indexed_email|article_id|count| prediction|\n",
      "+-------------+----------+-----+-----------+\n",
      "|         95.0|       463|  2.0|0.027673226|\n",
      "|        613.0|       833|  1.0| 0.09601902|\n",
      "|          4.0|       833|  2.0| 0.28787202|\n",
      "+-------------+----------+-----+-----------+\n",
      "only showing top 3 rows\n",
      "\n",
      "For rank 16, iterations 5, regularization 0.01 the RMSE is 1.7970321629964119\n",
      "+-------------+----------+-----+-----------+\n",
      "|indexed_email|article_id|count| prediction|\n",
      "+-------------+----------+-----+-----------+\n",
      "|         95.0|       463|  2.0|0.036145642|\n",
      "|        440.0|       833|  1.0| 0.07541733|\n",
      "|        310.0|       833|  1.0| 0.05249045|\n",
      "+-------------+----------+-----+-----------+\n",
      "only showing top 3 rows\n",
      "\n",
      "For rank 16, iterations 10, regularization 0.01 the RMSE is 1.7899555134323153\n",
      "+-------------+----------+-----+-----------+\n",
      "|indexed_email|article_id|count| prediction|\n",
      "+-------------+----------+-----+-----------+\n",
      "|         95.0|       463|  2.0|0.038544066|\n",
      "|        472.0|       833|  1.0|0.046229366|\n",
      "|        440.0|       833|  1.0|0.070091374|\n",
      "+-------------+----------+-----+-----------+\n",
      "only showing top 3 rows\n",
      "\n",
      "For rank 16, iterations 18, regularization 0.01 the RMSE is 1.7854248821496979\n",
      "+-------------+----------+-----+-----------+\n",
      "|indexed_email|article_id|count| prediction|\n",
      "+-------------+----------+-----+-----------+\n",
      "|         95.0|       463|  2.0|0.026969569|\n",
      "|        139.0|       833|  1.0| 0.12678382|\n",
      "|        467.0|       833|  1.0|0.055009183|\n",
      "+-------------+----------+-----+-----------+\n",
      "only showing top 3 rows\n",
      "\n",
      "For rank 16, iterations 5, regularization 0.1 the RMSE is 1.7952628299039344\n",
      "+-------------+----------+-----+-----------+\n",
      "|indexed_email|article_id|count| prediction|\n",
      "+-------------+----------+-----+-----------+\n",
      "|         95.0|       463|  2.0|0.031127337|\n",
      "|        472.0|       833|  1.0|0.022364287|\n",
      "|        440.0|       833|  1.0|  0.1054721|\n",
      "+-------------+----------+-----+-----------+\n",
      "only showing top 3 rows\n",
      "\n",
      "For rank 16, iterations 10, regularization 0.1 the RMSE is 1.786345243195674\n",
      "+-------------+----------+-----+-----------+\n",
      "|indexed_email|article_id|count| prediction|\n",
      "+-------------+----------+-----+-----------+\n",
      "|         95.0|       463|  2.0|0.040586382|\n",
      "|       4090.0|       833|  1.0|        NaN|\n",
      "|       3607.0|       833|  1.0|        0.0|\n",
      "+-------------+----------+-----+-----------+\n",
      "only showing top 3 rows\n",
      "\n",
      "For rank 16, iterations 18, regularization 0.1 the RMSE is 1.7835604318935026\n"
     ]
    }
   ],
   "source": [
    "# modelling \n",
    "\n",
    "# we'll test different architectures \n",
    "# different ranks, different errors , different regularization params, iterations\n",
    "\n",
    "from pyspark.ml.recommendation import ALS\n",
    "from pyspark.ml.evaluation import RegressionEvaluator\n",
    "from pyspark.ml.feature import QuantileDiscretizer\n",
    "import math\n",
    "\n",
    "results = {}\n",
    "\n",
    "seed = 5\n",
    "iterations = [5, 10, 18]\n",
    "regularization_parameters = [0.01,0.1]\n",
    "ranks = [8,10,16]\n",
    "errors = [0]*len(regularization_parameters)*len(ranks)*len(iterations)\n",
    "err = 0\n",
    "\n",
    "min_error = float('inf')\n",
    "best_rank = -1\n",
    "best_iteration = -1\n",
    "for rank in ranks:\n",
    "    for regularization in regularization_parameters:\n",
    "        for iteration in iterations:\n",
    "            \n",
    "            # instantiate the model\n",
    "            als = ALS(rank=rank, maxIter=iteration, regParam=regularization, userCol=\"indexed_email\", itemCol=\"article_id\", ratingCol=\"count\", implicitPrefs=True, nonnegative=True)\n",
    "            \n",
    "            # fit the model\n",
    "            model = als.fit(trainingData)\n",
    "            \n",
    "            # remove Nan predicitons\n",
    "            \n",
    "            # Evaluate the model by computing the RMSE on the test data\n",
    "            predictions = model.transform(testingData)\n",
    "            evaluator = RegressionEvaluator(metricName=\"rmse\", labelCol=\"count\",\n",
    "                                predictionCol=\"prediction\")\n",
    "\n",
    "            # get the error\n",
    "            # drop the nan predictions for unseen data during testing\n",
    "            error = evaluator.evaluate(predictions.na.drop())\n",
    "            predictions.show(3)\n",
    "            errors[err] = error\n",
    "            err += 1\n",
    "            # store the results\n",
    "            results[\"model-{}-{}-{}\".format(rank, iteration, regularization)] = error\n",
    "            \n",
    "            print('For rank {}, iterations {}, regularization {} the RMSE is {}'.format(rank, iteration, regularization, error))\n",
    "            if error < min_error:\n",
    "                min_error = error\n",
    "                best_rank = rank"
   ]
  },
  {
   "cell_type": "markdown",
   "metadata": {},
   "source": [
    "Now that we've seen which model has the best performance, we're going to build a pipeline and save and deploy the model. \n",
    "\n",
    "We'll use `rank 16`, `iterations 18`, `regularlization of .1`"
   ]
  },
  {
   "cell_type": "markdown",
   "metadata": {},
   "source": [
    "Now that we've decided on some of the parameters, we can train/test on the full dataset. "
   ]
  },
  {
   "cell_type": "code",
   "execution_count": 22,
   "metadata": {
    "collapsed": true
   },
   "outputs": [],
   "source": [
    "# let's create some testing data\n",
    "training_RDD, test_RDD = piv.randomSplit([7.0, 3.0], seed=0)\n",
    "\n",
    "# instantiate\n",
    "als = ALS(rank=16, maxIter=18, regParam=.1, userCol=\"indexed_email\", itemCol=\"article_id\", ratingCol=\"count\", implicitPrefs=True, nonnegative=True)\n",
    "complete_model = als.fit(training_RDD)"
   ]
  },
  {
   "cell_type": "code",
   "execution_count": 44,
   "metadata": {
    "collapsed": true
   },
   "outputs": [],
   "source": [
    "# let's test the model\n",
    "# test_for_predict_RDD = test_RDD.rdd.map(lambda x: (x[0], x[1]))\n",
    "\n",
    "from pyspark.ml.evaluation import RegressionEvaluator\n",
    "predictions = complete_model.transform(test_RDD).rdd.map(lambda r: ((r[0], r[1]), r[2]))\n",
    "rates_and_preds = test_RDD.rdd.map(lambda r: ((int(r[0]), int(r[1])), float(r[2]))).join(predictions)\n",
    "error = math.sqrt(rates_and_preds.map(lambda r: (r[1][0] - r[1][1])**2).mean())\n",
    "# evaluator = RegressionEvaluator(metricName=\"rmse\", labelCol=\"count\",\n",
    "#                                 predictionCol=\"prediction\")\n",
    "# rmse = evaluator.evaluate(predictions)\n",
    "# print(\"Root-mean-square error = \" + str(rmse))"
   ]
  },
  {
   "cell_type": "code",
   "execution_count": 47,
   "metadata": {},
   "outputs": [
    {
     "data": {
      "text/plain": [
       "[((688, 1422), (1.0, 1.0)),\n",
       " ((1, 1181), (3.0, 3.0)),\n",
       " ((145, 237), (2.0, 2.0)),\n",
       " ((1377, 173), (1.0, 1.0)),\n",
       " ((2183, 43), (1.0, 1.0)),\n",
       " ((569.0, 213), (1.0, 1.0)),\n",
       " ((182.0, 1436), (1.0, 1.0)),\n",
       " ((742.0, 1180), (1.0, 1.0)),\n",
       " ((353.0, 1405), (1.0, 1.0)),\n",
       " ((218, 784), (1.0, 1.0))]"
      ]
     },
     "execution_count": 47,
     "metadata": {},
     "output_type": "execute_result"
    }
   ],
   "source": [
    "rates_and_preds.take(10)"
   ]
  },
  {
   "cell_type": "code",
   "execution_count": 40,
   "metadata": {},
   "outputs": [
    {
     "data": {
      "text/plain": [
       "0.0"
      ]
     },
     "execution_count": 40,
     "metadata": {},
     "output_type": "execute_result"
    }
   ],
   "source": [
    "# predictions.take(10)\n",
    "error"
   ]
  },
  {
   "cell_type": "code",
   "execution_count": null,
   "metadata": {
    "collapsed": true
   },
   "outputs": [],
   "source": [
    "print(\"The final Test RMSE is {}\".format(error))"
   ]
  },
  {
   "cell_type": "code",
   "execution_count": null,
   "metadata": {
    "collapsed": true
   },
   "outputs": [],
   "source": [
    "predictions.take(4)"
   ]
  },
  {
   "cell_type": "markdown",
   "metadata": {},
   "source": [
    "**Bringing it all together**"
   ]
  },
  {
   "cell_type": "code",
   "execution_count": 13,
   "metadata": {
    "collapsed": true
   },
   "outputs": [],
   "source": [
    "# import the tools we need\n",
    "from pyspark.ml.feature import SQLTransformer\n",
    "from pyspark.ml.feature import QuantileDiscretizer\n",
    "from pyspark.ml.feature import StringIndexer\n",
    "from pyspark.ml.recommendation import ALS\n",
    "from pyspark.ml import Pipeline, Model\n",
    "\n",
    "\n",
    "# group and get the ratings data, convert dtypes\n",
    "sql_transform_ratings = SQLTransformer(\n",
    "    statement=\"SELECT indexed_email, cast(article_id as double), cast( count(article_id) as double) as rating FROM __THIS__ GROUP BY indexed_email, article_id\")\n",
    "\n",
    "# bin the data\n",
    "discretizer = QuantileDiscretizer(numBuckets=5, inputCol=\"rating\", outputCol=\"binned\")\n",
    "\n",
    "# convert the dtypes and drop nulls\n",
    "sql_transform_dtypes = sql_transform_1 = SQLTransformer(\n",
    "    statement=\"SELECT cast(indexed_email as int), cast(article_id as int), cast(rating as double), cast(binned as double) FROM __THIS__ WHERE indexed_email IS NOT NULL and article_id IS NOT NULL and binned IS NOT NULL\")\n",
    "\n",
    "\n",
    "# fit ALS based collaborative filtering model\n",
    "als = ALS(maxIter=10, regParam = .1, userCol = \"indexed_email\", itemCol = \"article_id\", ratingCol= \"binned\", implicitPrefs=True, nonnegative=True)\n"
   ]
  },
  {
   "cell_type": "code",
   "execution_count": 14,
   "metadata": {
    "collapsed": true
   },
   "outputs": [],
   "source": [
    "# the preprocessing step\n",
    "preprocessor_pipe = Pipeline(stages = [sql_transform_ratings, discretizer, sql_transform_dtypes, als])"
   ]
  },
  {
   "cell_type": "code",
   "execution_count": 15,
   "metadata": {
    "collapsed": true
   },
   "outputs": [],
   "source": [
    "ml_df = new_df.na.drop()\n",
    "als_fit = preprocessor_pipe.fit(ml_df)\n",
    "new_df = als_fit.transform(ml_df)"
   ]
  },
  {
   "cell_type": "code",
   "execution_count": 16,
   "metadata": {},
   "outputs": [
    {
     "name": "stdout",
     "output_type": "stream",
     "text": [
      "+-------------+----------+------+------+-----------+\n",
      "|indexed_email|article_id|rating|binned| prediction|\n",
      "+-------------+----------+------+------+-----------+\n",
      "|           92|       463|   1.0|   1.0|0.042622246|\n",
      "|         1574|       463|   1.0|   1.0|0.008220874|\n",
      "|         1769|       463|   1.0|   1.0|0.008684835|\n",
      "+-------------+----------+------+------+-----------+\n",
      "only showing top 3 rows\n",
      "\n"
     ]
    }
   ],
   "source": [
    "new_df.show(3)"
   ]
  },
  {
   "cell_type": "markdown",
   "metadata": {},
   "source": [
    "##### Bringing it together "
   ]
  },
  {
   "cell_type": "markdown",
   "metadata": {},
   "source": [
    "### III. Watson Machine Learning\n",
    "\n",
    "1. Build a pipeline\n",
    "2. Save and deploy the pipeline \n",
    "3. Configure the continuous learning system? "
   ]
  },
  {
   "cell_type": "code",
   "execution_count": 17,
   "metadata": {
    "collapsed": true
   },
   "outputs": [],
   "source": [
    "# build the pipeline\n",
    "# input a df we'll need to \n",
    "# !pip install watson-machine-learning-client --upgrade\n",
    "import json\n",
    "import watson_machine_learning_client"
   ]
  },
  {
   "cell_type": "code",
   "execution_count": 18,
   "metadata": {
    "collapsed": true
   },
   "outputs": [],
   "source": [
    "# add your credentials\n",
    "wml_credentials = {\n",
    "  \"url\": \"https://ibm-watson-ml.mybluemix.net\",\n",
    "  \"username\": \"***\",\n",
    "  \"password\": \"***\",\n",
    "  \"instance_id\": \"***\"\n",
    "}"
   ]
  },
  {
   "cell_type": "code",
   "execution_count": 19,
   "metadata": {
    "collapsed": true
   },
   "outputs": [],
   "source": [
    "# connect to the client\n",
    "from watson_machine_learning_client import WatsonMachineLearningAPIClient\n",
    "from watson_machine_learning_client.metanames import MetaNames \n",
    "\n",
    "# make connection\n",
    "client = WatsonMachineLearningAPIClient(wml_credentials)\n",
    "# get your instance details\n",
    "instance_details = client.service_instance.get_details()\n",
    "\n",
    "# print(json.dumps(instance_details, indent=2))"
   ]
  },
  {
   "cell_type": "code",
   "execution_count": 26,
   "metadata": {
    "collapsed": true
   },
   "outputs": [],
   "source": [
    "# metaprops\n",
    "from watson_machine_learning_client.metanames import MetaNames \n",
    "model_props = {client.repository.ModelMetaNames.AUTHOR_NAME: \"Adam Massachi - IBM\", \n",
    "               client.repository.ModelMetaNames.AUTHOR_EMAIL: \"adam.massachi@ibm.com\", \n",
    "               client.repository.ModelMetaNames.NAME: \"UdacityCollabRecSystem-UserItem\",\n",
    "               MetaNames.LABEL_FIELD: \"rating\"}\n",
    "# store the model\n",
    "published_model = client.repository.store_model(model=als_fit, pipeline=preprocessor_pipe, meta_props=model_props, training_data=new_df.select(\"indexed_email\",  \"article_id\", \"rating\", \"binned\"))"
   ]
  },
  {
   "cell_type": "code",
   "execution_count": 27,
   "metadata": {
    "collapsed": true
   },
   "outputs": [],
   "source": [
    "# get the detials to deploy\n",
    "published_model_uid = client.repository.get_model_uid(published_model)\n",
    "model_details = client.repository.get_details(published_model_uid)\n"
   ]
  },
  {
   "cell_type": "code",
   "execution_count": 34,
   "metadata": {},
   "outputs": [
    {
     "name": "stdout",
     "output_type": "stream",
     "text": [
      "------------------------------------  ------------------------------------  ------------------------  -----------------\n",
      "GUID                                  NAME                                  CREATED                   FRAMEWORK\n",
      "e89ac770-1eda-425d-a882-fdedc9729a78  UdacityCollabRecSystem-Collaborators  2018-04-26T17:04:59.688Z  mllib-2.1\n",
      "1c227989-44cd-421d-963e-fdf985c56ff2  NOPO_KERAS                            2018-05-09T00:00:39.622Z  tensorflow-1.5\n",
      "d3ab930b-416a-49e0-9218-1c6b177afa9a  MNIST best model                      2018-05-16T18:56:27.772Z  tensorflow-1.5\n",
      "9b113a2e-1bdc-4564-995e-541c3550eef4  MNIST best model                      2018-05-16T20:54:49.903Z  tensorflow-1.5\n",
      "d8a4d579-a662-4330-b2cf-89e0fce32897  HPO-FashionMNIST-EA                   2018-05-17T15:51:24.424Z  tensorflow-1.5\n",
      "eb4260b0-114f-4d87-8080-23148081685f  UdacityCollabRecSystem-Collaborators  2018-05-22T22:02:27.308Z  mllib-2.1\n",
      "a04de256-45d7-47cb-a6b0-d842605e424d  SPSS_DEMO                             2018-05-25T21:01:04.648Z  spss-modeler-18.1\n",
      "718cb269-175b-4849-b1fe-1b48bb8fbdf4  My cool mnist model tf-distributed    2018-05-31T15:02:31.089Z  tensorflow-1.5\n",
      "7ba02350-c628-409e-969b-93a50a550b3d  UdacityCollabRecSystem-UserItem       2018-06-06T00:27:22.781Z  mllib-2.1\n",
      "------------------------------------  ------------------------------------  ------------------------  -----------------\n"
     ]
    }
   ],
   "source": [
    "details = client.repository.list_models()"
   ]
  },
  {
   "cell_type": "code",
   "execution_count": 43,
   "metadata": {},
   "outputs": [
    {
     "name": "stdout",
     "output_type": "stream",
     "text": [
      "\n",
      "\n",
      "#######################################################################################\n",
      "\n",
      "Synchronous deployment creation for uid: '9f5e422a-53c4-4516-91f2-69a48d383bf2' started\n",
      "\n",
      "#######################################################################################\n",
      "\n",
      "\n",
      "INITIALIZING\n",
      "DEPLOY_SUCCESS\n",
      "\n",
      "\n",
      "------------------------------------------------------------------------------------------------\n",
      "Successfully finished deployment creation, deployment_uid='9f5e422a-53c4-4516-91f2-69a48d383bf2'\n",
      "------------------------------------------------------------------------------------------------\n",
      "\n",
      "\n"
     ]
    }
   ],
   "source": [
    "# deploy the model\n",
    "try:\n",
    "    dep = client.deployments.create('7ba02350-c628-409e-969b-93a50a550b3d', name=\"spark_rec_system_deployed_2\", description=\"REC_SYSTEM_DEPLOY_2\")\n",
    "except:\n",
    "    print(\"Waiting for saved model ...\")"
   ]
  },
  {
   "cell_type": "code",
   "execution_count": 44,
   "metadata": {},
   "outputs": [
    {
     "name": "stdout",
     "output_type": "stream",
     "text": [
      "https://ibm-watson-ml.mybluemix.net/v3/wml_instances/0aa4c97b-16bb-4bcc-afc7-58ed0c0709e7/published_models/7ba02350-c628-409e-969b-93a50a550b3d/deployments/9f5e422a-53c4-4516-91f2-69a48d383bf2/online\n"
     ]
    }
   ],
   "source": [
    "# get the scoring url for use in the app\n",
    "scoring_url = dep['entity']['scoring_url']\n",
    "print(scoring_url)"
   ]
  },
  {
   "cell_type": "code",
   "execution_count": 45,
   "metadata": {
    "collapsed": true
   },
   "outputs": [],
   "source": [
    "# score a record\n",
    "input_json = {\n",
    "    'fields': [\"indexed_email\", \"article_id\"],\n",
    "    'values': [[1165,788]]}"
   ]
  },
  {
   "cell_type": "code",
   "execution_count": 46,
   "metadata": {},
   "outputs": [
    {
     "data": {
      "text/plain": [
       "{u'fields': [u'indexed_email',\n",
       "  u'article_id',\n",
       "  u'rating',\n",
       "  u'binned',\n",
       "  u'prediction'],\n",
       " u'values': [[1165, 788, 1.0, 1.0, 0.0935187041759491]]}"
      ]
     },
     "execution_count": 46,
     "metadata": {},
     "output_type": "execute_result"
    }
   ],
   "source": [
    "# score\n",
    "client.deployments.score(scoring_url, input_json)"
   ]
  },
  {
   "cell_type": "code",
   "execution_count": 48,
   "metadata": {
    "collapsed": true
   },
   "outputs": [],
   "source": [
    "all_articles = df.toPandas()['article_id'].unique()\n",
    "import operator\n",
    "\n",
    "# Let's write a function that will return all of the ranked article_ids\n",
    "def getUserRecommendations(user_id):\n",
    "    \"\"\"\n",
    "    Get the article scores for every user, sort them, and serve them\n",
    "    \"\"\"\n",
    "    \n",
    "    # create a request\n",
    "    input_json = {\n",
    "    'fields': [\"indexed_email\", \"article_id\"],\n",
    "    'values': [[user_id,float(article_id)] for article_id in all_articles]}\n",
    "    \n",
    "    \n",
    "    # score\n",
    "    predictions = client.deployments.score(scoring_url, input_json)\n",
    "    \n",
    "    # we are only interested in the prediction and article_id\n",
    "    vals = [(p[1], p[-1]) for p in predictions['values']]\n",
    "    \n",
    "    # sort the tuples\n",
    "    vals.sort(key=operator.itemgetter(1))\n",
    "    \n",
    "    return list(reversed(vals[-5:]))"
   ]
  },
  {
   "cell_type": "code",
   "execution_count": 49,
   "metadata": {},
   "outputs": [
    {
     "data": {
      "text/plain": [
       "[(124, 0.45538967847824097),\n",
       " (260, 0.3730255365371704),\n",
       " (1017, 0.33333703875541687),\n",
       " (43, 0.32847103476524353),\n",
       " (600, 0.28920984268188477)]"
      ]
     },
     "execution_count": 49,
     "metadata": {},
     "output_type": "execute_result"
    }
   ],
   "source": [
    "getUserRecommendations(1165)"
   ]
  },
  {
   "cell_type": "code",
   "execution_count": null,
   "metadata": {
    "collapsed": true
   },
   "outputs": [],
   "source": []
  }
 ],
 "metadata": {
  "kernelspec": {
   "display_name": "Python 3",
   "language": "python",
   "name": "python3"
  },
  "language_info": {
   "codemirror_mode": {
    "name": "ipython",
    "version": 3
   },
   "file_extension": ".py",
   "mimetype": "text/x-python",
   "name": "python",
   "nbconvert_exporter": "python",
   "pygments_lexer": "ipython3",
   "version": "3.6.1"
  }
 },
 "nbformat": 4,
 "nbformat_minor": 1
}
